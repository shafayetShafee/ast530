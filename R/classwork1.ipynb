{
 "cells": [
  {
   "cell_type": "markdown",
   "id": "71a9e256-ad64-41f0-b161-86ef63fafad0",
   "metadata": {},
   "source": [
    "Exercise-1\n",
    "-----------------------------------\n",
    "\n",
    "**(a)** The data below represent average monthly precipitation for [Boulder, Colorado provided by the U.S. National Oceanic and Atmospheric Administration (NOAA).](https://www.esrl.noaa.gov/psd/boulder/Boulder.mm.precip.html)\n",
    "\n",
    "<table><thead><tr><th>Month</th><th>Precipitation (inches)</th></tr></thead><tbody><tr><td>jan</td><td>0.70</td></tr><tr><td>feb</td><td>0.75</td></tr><tr><td>mar</td><td>1.85</td></tr><tr><td>apr</td><td>2.93</td></tr><tr><td>may</td><td>3.05</td></tr><tr><td>june</td><td>2.02</td></tr><tr><td>july</td><td>1.93</td></tr><tr><td>aug</td><td>1.62</td></tr><tr><td>sept</td><td>1.84</td></tr><tr><td>oct</td><td>1.31</td></tr><tr><td>nov</td><td>1.39</td></tr><tr><td>dec</td><td>0.84</td></tr></tbody></table>\n",
    "\n",
    "Create two **Python** lists as follows:\n",
    "\n",
    "1.  the first list should contain the month abbreviations and should be called `boulder_precip_months`.\n",
    "2.  the second list should be a list of precipitation values and should be called `boulder_precip_inches`.\n",
    "\n",
    "\n",
    "**(b)** Next, convert each floating point value in the `boulder_precip_inches` to millimeters and create a new list variable called `boulder_precip_mm`.\n",
    "\n",
    "To convert inches to millimeters, you need to multiply the inches by `25.4` (1 inch = 25.4 mm).\n",
    "\n",
    "**(c)** Next, create a dictionary in `Python` that should have the months as keys and the percipitation in milimeters as values. \n",
    "\n",
    "\n",
    "**(d)** Write functions to calculate the mean, standard deviation and coefficient of variation of data contained in a list. Next, calculate the mean, standard deviation and coefficient of variation of the average monthly percipitation for Boulder.\n",
    "\n",
    "**(e)** Finally, find out the months for which the `boulder_precip_inches` was greater than the mean level of percipitation in inches."
   ]
  },
  {
   "cell_type": "markdown",
   "id": "c134400c",
   "metadata": {},
   "source": [
    "## Redo (22 nov, 2022)"
   ]
  },
  {
   "cell_type": "code",
   "execution_count": 1,
   "id": "6666dbdf",
   "metadata": {},
   "outputs": [],
   "source": [
    "# a\n",
    "\n",
    "boulder_precip_months = ['jan', 'feb', 'mar', 'apr', 'may', 'june', 'july', 'aug', \n",
    "                        'sep', 'oct', 'nov', 'dec']\n",
    "\n",
    "boulder_precip_inches = [0.70, 0.75, 1.85, 2.93, 3.05, 2.02, 1.93, 1.62, 1.84, 1.31, 1.39, 0.84]"
   ]
  },
  {
   "cell_type": "code",
   "execution_count": 5,
   "id": "42ab204d",
   "metadata": {},
   "outputs": [
    {
     "name": "stdout",
     "output_type": "stream",
     "text": [
      "[17.78, 19.05, 46.99, 74.42, 77.47, 51.31, 49.02, 41.15, 46.74, 33.27, 35.31, 21.34]\n"
     ]
    }
   ],
   "source": [
    "# b\n",
    "\n",
    "boulder_precip_mm = [round(inches * 25.4, 2) for inches in boulder_precip_inches]\n",
    "print(boulder_precip_mm)"
   ]
  },
  {
   "cell_type": "code",
   "execution_count": 8,
   "id": "c890aa3f",
   "metadata": {},
   "outputs": [
    {
     "data": {
      "text/plain": [
       "{'jan': 17.78,\n",
       " 'feb': 19.05,\n",
       " 'mar': 46.99,\n",
       " 'apr': 74.42,\n",
       " 'may': 77.47,\n",
       " 'june': 51.31,\n",
       " 'july': 49.02,\n",
       " 'aug': 41.15,\n",
       " 'sep': 46.74,\n",
       " 'oct': 33.27,\n",
       " 'nov': 35.31,\n",
       " 'dec': 21.34}"
      ]
     },
     "execution_count": 8,
     "metadata": {},
     "output_type": "execute_result"
    }
   ],
   "source": [
    "# c\n",
    "\n",
    "# hard way\n",
    "\n",
    "d1 = {}\n",
    "\n",
    "for i in range(len(boulder_precip_months)):\n",
    "    d1[boulder_precip_months[i]] = boulder_precip_mm[i]\n",
    "        \n",
    "d1"
   ]
  },
  {
   "cell_type": "code",
   "execution_count": 10,
   "id": "8ddabdac",
   "metadata": {},
   "outputs": [
    {
     "data": {
      "text/plain": [
       "{'jan': 17.78,\n",
       " 'feb': 19.05,\n",
       " 'mar': 46.99,\n",
       " 'apr': 74.42,\n",
       " 'may': 77.47,\n",
       " 'june': 51.31,\n",
       " 'july': 49.02,\n",
       " 'aug': 41.15,\n",
       " 'sep': 46.74,\n",
       " 'oct': 33.27,\n",
       " 'nov': 35.31,\n",
       " 'dec': 21.34}"
      ]
     },
     "execution_count": 10,
     "metadata": {},
     "output_type": "execute_result"
    }
   ],
   "source": [
    "# less hard way\n",
    "\n",
    "d2 = {boulder_precip_months[i]: boulder_precip_mm[i] for i in range(len(boulder_precip_months))}\n",
    "\n",
    "d2"
   ]
  },
  {
   "cell_type": "code",
   "execution_count": 12,
   "id": "4c13a146",
   "metadata": {},
   "outputs": [
    {
     "data": {
      "text/plain": [
       "{'jan': 17.78,\n",
       " 'feb': 19.05,\n",
       " 'mar': 46.99,\n",
       " 'apr': 74.42,\n",
       " 'may': 77.47,\n",
       " 'june': 51.31,\n",
       " 'july': 49.02,\n",
       " 'aug': 41.15,\n",
       " 'sep': 46.74,\n",
       " 'oct': 33.27,\n",
       " 'nov': 35.31,\n",
       " 'dec': 21.34}"
      ]
     },
     "execution_count": 12,
     "metadata": {},
     "output_type": "execute_result"
    }
   ],
   "source": [
    "# simplest way\n",
    "\n",
    "d3 = dict(zip(boulder_precip_months, boulder_precip_mm))\n",
    "d3"
   ]
  },
  {
   "cell_type": "code",
   "execution_count": 16,
   "id": "d758a852",
   "metadata": {},
   "outputs": [],
   "source": [
    "# d\n",
    "\n",
    "def mean(x):\n",
    "    n = len(x)\n",
    "    total = sum(x)\n",
    "    return total / n\n",
    "\n",
    "def sd(x):\n",
    "    avg = mean(x)\n",
    "    n = len(x)\n",
    "    numerator = sum([(val - avg) ** 2 for val in x])\n",
    "    sdv = (numerator / n) ** (1/2)\n",
    "    return sdv\n",
    "\n",
    "def cov(x):\n",
    "    return sd(x) / mean(x)\n"
   ]
  },
  {
   "cell_type": "code",
   "execution_count": 17,
   "id": "424f5f85",
   "metadata": {},
   "outputs": [
    {
     "name": "stdout",
     "output_type": "stream",
     "text": [
      "mean: 1.6858333333333333, sd: 0.7318408107110604, cov: 0.43411219617067354\n"
     ]
    }
   ],
   "source": [
    "print(f\"mean: {mean(boulder_precip_inches)}, sd: {sd(boulder_precip_inches)}, cov: {cov(boulder_precip_inches)}\")"
   ]
  },
  {
   "cell_type": "code",
   "execution_count": 20,
   "id": "15205010",
   "metadata": {},
   "outputs": [
    {
     "data": {
      "text/plain": [
       "['mar', 'apr', 'may', 'june', 'july', 'sep']"
      ]
     },
     "execution_count": 20,
     "metadata": {},
     "output_type": "execute_result"
    }
   ],
   "source": [
    "# e\n",
    "\n",
    "d_inches = dict(zip(boulder_precip_months, boulder_precip_inches))\n",
    "\n",
    "[key for key in d_inches if d_inches[key] > mean(boulder_precip_inches)]"
   ]
  },
  {
   "cell_type": "code",
   "execution_count": 22,
   "id": "f4ddde43",
   "metadata": {},
   "outputs": [
    {
     "data": {
      "text/plain": [
       "['mar', 'apr', 'may', 'june', 'july', 'sep']"
      ]
     },
     "execution_count": 22,
     "metadata": {},
     "output_type": "execute_result"
    }
   ],
   "source": [
    "# or\n",
    "\n",
    "mons = [boulder_precip_months[i] for i in range(len(boulder_precip_months)) \n",
    "        if boulder_precip_inches[i] > mean(boulder_precip_inches)]\n",
    "mons"
   ]
  },
  {
   "cell_type": "markdown",
   "id": "e1a304db",
   "metadata": {},
   "source": []
  },
  {
   "cell_type": "markdown",
   "id": "ab50fd55",
   "metadata": {},
   "source": [
    "## Original Copy"
   ]
  },
  {
   "cell_type": "code",
   "execution_count": 1,
   "id": "577854ae-a6ab-4c08-aba3-a9822673b9b4",
   "metadata": {},
   "outputs": [],
   "source": [
    "# a\n",
    "\n",
    "boulder_precip_months = ['jan', 'feb', 'mar', 'apr', 'may', 'june', 'july', 'aug', \n",
    "                        'sep', 'oct', 'nov', 'dec']\n",
    "\n",
    "boulder_precip_inches = [0.70, 0.75, 1.85, 2.93, 3.05, 2.02, 1.93, 1.62, 1.84, 1.31, 1.39, 0.84]"
   ]
  },
  {
   "cell_type": "code",
   "execution_count": 4,
   "id": "745245b4-7f2a-4f36-ae02-a2f585aa62c1",
   "metadata": {},
   "outputs": [
    {
     "data": {
      "text/plain": [
       "[17.78,\n",
       " 19.05,\n",
       " 46.99,\n",
       " 74.42,\n",
       " 77.47,\n",
       " 51.31,\n",
       " 49.02,\n",
       " 41.15,\n",
       " 46.74,\n",
       " 33.27,\n",
       " 35.31,\n",
       " 21.34]"
      ]
     },
     "execution_count": 4,
     "metadata": {},
     "output_type": "execute_result"
    }
   ],
   "source": [
    "# b\n",
    "\n",
    "boulder_precip_mm = [round(inches * 25.4, 2) for inches in boulder_precip_inches]\n",
    "\n",
    "boulder_precip_mm"
   ]
  },
  {
   "cell_type": "code",
   "execution_count": 8,
   "id": "0a34c781-6300-4de1-8e62-87eab9767038",
   "metadata": {},
   "outputs": [
    {
     "name": "stdout",
     "output_type": "stream",
     "text": [
      "{'jan': 17.779999999999998, 'feb': 19.049999999999997, 'mar': 46.99, 'apr': 74.422, 'may': 77.46999999999998, 'june': 51.308, 'july': 49.022, 'aug': 41.148, 'sep': 46.736, 'oct': 33.274, 'nov': 35.306, 'dec': 21.336}\n",
      "{'jan': 17.779999999999998, 'feb': 19.049999999999997, 'mar': 46.99, 'apr': 74.422, 'may': 77.46999999999998, 'june': 51.308, 'july': 49.022, 'aug': 41.148, 'sep': 46.736, 'oct': 33.274, 'nov': 35.306, 'dec': 21.336}\n"
     ]
    }
   ],
   "source": [
    "# c\n",
    "\n",
    "d1 = dict(zip(boulder_precip_months, boulder_precip_mm))\n",
    "\n",
    "d2 = {boulder_precip_months[i]: boulder_precip_mm[i] for i in range(len(boulder_precip_mm))}\n",
    "\n",
    "print(d1)\n",
    "print(d2)"
   ]
  },
  {
   "cell_type": "code",
   "execution_count": 15,
   "id": "3e2d9717-529d-4f7d-8414-55eefafbbb3b",
   "metadata": {},
   "outputs": [
    {
     "name": "stdout",
     "output_type": "stream",
     "text": [
      "mean: 1.6858333333333333, sd: 0.7318408107110604, cov: 0.43411219617067354\n"
     ]
    }
   ],
   "source": [
    "# d\n",
    "\n",
    "def mean(x):\n",
    "    n = len(x)\n",
    "    avg = sum(x) / n\n",
    "    return avg\n",
    "\n",
    "def sd(x):\n",
    "    n = len(x)\n",
    "    avg = sum(x) / n\n",
    "    devs = [(num - avg) ** 2 for num in x]\n",
    "    var = sum(devs) / n\n",
    "    return var ** (1/2)\n",
    "\n",
    "def covar(x):\n",
    "    avg = mean(x)\n",
    "    sdv = sd(x)\n",
    "    return sdv / avg\n",
    "\n",
    "print(f\"mean: {mean(boulder_precip_inches)}, sd: {sd(boulder_precip_inches)}, cov: {covar(boulder_precip_inches)}b\")\n"
   ]
  },
  {
   "cell_type": "code",
   "execution_count": 21,
   "id": "ff20eb9c-46df-4238-98d9-33fa100a61de",
   "metadata": {},
   "outputs": [],
   "source": [
    "# e\n",
    "\n",
    "filtered_mon = [boulder_precip_months[i] for i in range(len(boulder_precip_inches)) if boulder_precip_inches[i] > mean(boulder_precip_inches)]"
   ]
  },
  {
   "cell_type": "code",
   "execution_count": 22,
   "id": "596c0e10-f4d4-47a0-8b6e-96d78a0e7c72",
   "metadata": {},
   "outputs": [
    {
     "data": {
      "text/plain": [
       "['mar', 'apr', 'may', 'june', 'july', 'sep']"
      ]
     },
     "execution_count": 22,
     "metadata": {},
     "output_type": "execute_result"
    }
   ],
   "source": [
    "filtered_mon"
   ]
  },
  {
   "cell_type": "code",
   "execution_count": 24,
   "id": "f7968010-df24-466b-8c67-15ba9761c74c",
   "metadata": {},
   "outputs": [
    {
     "data": {
      "text/plain": [
       "['mar', 'apr', 'may', 'june', 'july', 'sep']"
      ]
     },
     "execution_count": 24,
     "metadata": {},
     "output_type": "execute_result"
    }
   ],
   "source": [
    "d1_inches = dict(zip(boulder_precip_months, boulder_precip_inches))\n",
    "\n",
    "[key for key, val in d1_inches.items() if val > mean(boulder_precip_inches)]"
   ]
  },
  {
   "cell_type": "code",
   "execution_count": 29,
   "id": "8ce90da8-6767-413d-b2cf-d1ff2c380303",
   "metadata": {},
   "outputs": [
    {
     "data": {
      "text/plain": [
       "{'jan': 0.7,\n",
       " 'feb': 0.75,\n",
       " 'mar': 1.85,\n",
       " 'apr': 2.93,\n",
       " 'may': 3.05,\n",
       " 'june': 2.02,\n",
       " 'july': 1.93,\n",
       " 'aug': 1.62,\n",
       " 'sep': 1.84,\n",
       " 'oct': 1.31,\n",
       " 'nov': 1.39,\n",
       " 'dec': 0.84}"
      ]
     },
     "execution_count": 29,
     "metadata": {},
     "output_type": "execute_result"
    }
   ],
   "source": [
    "## dictionary creating in raw way\n",
    "\n",
    "d1_manual = {}\n",
    "\n",
    "for i in range(len(boulder_precip_inches)):\n",
    "    d1_manual[boulder_precip_months[i]] = boulder_precip_inches[i]\n",
    "    \n",
    "d1_manual"
   ]
  },
  {
   "cell_type": "code",
   "execution_count": 31,
   "id": "6c25b359-70ae-4bde-94c6-551ecdf39c7b",
   "metadata": {},
   "outputs": [
    {
     "data": {
      "text/plain": [
       "tuple"
      ]
     },
     "execution_count": 31,
     "metadata": {},
     "output_type": "execute_result"
    }
   ],
   "source": [
    "test_zip = list(zip(boulder_precip_months, boulder_precip_inches))\n",
    "\n",
    "type(test_zip[1])"
   ]
  }
 ],
 "metadata": {
  "kernelspec": {
   "display_name": "Python 3 (ipykernel)",
   "language": "python",
   "name": "python3"
  },
  "language_info": {
   "codemirror_mode": {
    "name": "ipython",
    "version": 3
   },
   "file_extension": ".py",
   "mimetype": "text/x-python",
   "name": "python",
   "nbconvert_exporter": "python",
   "pygments_lexer": "ipython3",
   "version": "3.10.6"
  }
 },
 "nbformat": 4,
 "nbformat_minor": 5
}
